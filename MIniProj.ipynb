{
 "cells": [
  {
   "cell_type": "code",
   "execution_count": 7,
   "metadata": {
    "collapsed": true
   },
   "outputs": [],
   "source": [
    "import pandas as pd\n",
    "import numpy as np\n",
    "import scipy as sc\n",
    "import matplotlib.pyplot as plt\n",
    "from pygoogletranslation import Translator"
   ]
  },
  {
   "cell_type": "markdown",
   "source": [
    "<h1> Data Analysis Mini-project using Pandas & Matplotlib</h1>\n",
    "<h3>Sudent: Adam Sypnik </h2>\n",
    "<h3>Album: 136151 </h3>"
   ],
   "metadata": {
    "collapsed": false,
    "pycharm": {
     "name": "#%% md\n"
    }
   }
  },
  {
   "cell_type": "markdown",
   "source": [
    "<h4>Ex1. Read the data and view it.<h4>\n",
    "<p><b>Important:</b> add the parameter \"encoding='latin1', to.pd_read_csv() because the data is in Portuguese.\n",
    "(‘á’ and ‘ç’ will generate an error).</p>"
   ],
   "metadata": {
    "collapsed": false,
    "pycharm": {
     "name": "#%% md\n"
    }
   }
  },
  {
   "cell_type": "code",
   "execution_count": 8,
   "outputs": [
    {
     "data": {
      "text/plain": "   year state    month  number        date\n0  1998  Acre  Janeiro     0.0  1998-01-01\n1  1999  Acre  Janeiro     0.0  1999-01-01\n2  2000  Acre  Janeiro     0.0  2000-01-01\n3  2001  Acre  Janeiro     0.0  2001-01-01\n4  2002  Acre  Janeiro     0.0  2002-01-01\n5  2003  Acre  Janeiro    10.0  2003-01-01\n6  2004  Acre  Janeiro     0.0  2004-01-01\n7  2005  Acre  Janeiro    12.0  2005-01-01\n8  2006  Acre  Janeiro     4.0  2006-01-01\n9  2007  Acre  Janeiro     0.0  2007-01-01",
      "text/html": "<div>\n<style scoped>\n    .dataframe tbody tr th:only-of-type {\n        vertical-align: middle;\n    }\n\n    .dataframe tbody tr th {\n        vertical-align: top;\n    }\n\n    .dataframe thead th {\n        text-align: right;\n    }\n</style>\n<table border=\"1\" class=\"dataframe\">\n  <thead>\n    <tr style=\"text-align: right;\">\n      <th></th>\n      <th>year</th>\n      <th>state</th>\n      <th>month</th>\n      <th>number</th>\n      <th>date</th>\n    </tr>\n  </thead>\n  <tbody>\n    <tr>\n      <th>0</th>\n      <td>1998</td>\n      <td>Acre</td>\n      <td>Janeiro</td>\n      <td>0.0</td>\n      <td>1998-01-01</td>\n    </tr>\n    <tr>\n      <th>1</th>\n      <td>1999</td>\n      <td>Acre</td>\n      <td>Janeiro</td>\n      <td>0.0</td>\n      <td>1999-01-01</td>\n    </tr>\n    <tr>\n      <th>2</th>\n      <td>2000</td>\n      <td>Acre</td>\n      <td>Janeiro</td>\n      <td>0.0</td>\n      <td>2000-01-01</td>\n    </tr>\n    <tr>\n      <th>3</th>\n      <td>2001</td>\n      <td>Acre</td>\n      <td>Janeiro</td>\n      <td>0.0</td>\n      <td>2001-01-01</td>\n    </tr>\n    <tr>\n      <th>4</th>\n      <td>2002</td>\n      <td>Acre</td>\n      <td>Janeiro</td>\n      <td>0.0</td>\n      <td>2002-01-01</td>\n    </tr>\n    <tr>\n      <th>5</th>\n      <td>2003</td>\n      <td>Acre</td>\n      <td>Janeiro</td>\n      <td>10.0</td>\n      <td>2003-01-01</td>\n    </tr>\n    <tr>\n      <th>6</th>\n      <td>2004</td>\n      <td>Acre</td>\n      <td>Janeiro</td>\n      <td>0.0</td>\n      <td>2004-01-01</td>\n    </tr>\n    <tr>\n      <th>7</th>\n      <td>2005</td>\n      <td>Acre</td>\n      <td>Janeiro</td>\n      <td>12.0</td>\n      <td>2005-01-01</td>\n    </tr>\n    <tr>\n      <th>8</th>\n      <td>2006</td>\n      <td>Acre</td>\n      <td>Janeiro</td>\n      <td>4.0</td>\n      <td>2006-01-01</td>\n    </tr>\n    <tr>\n      <th>9</th>\n      <td>2007</td>\n      <td>Acre</td>\n      <td>Janeiro</td>\n      <td>0.0</td>\n      <td>2007-01-01</td>\n    </tr>\n  </tbody>\n</table>\n</div>"
     },
     "execution_count": 8,
     "metadata": {},
     "output_type": "execute_result"
    }
   ],
   "source": [
    "df = pd.read_csv('Data/amazon.csv', sep=',',encoding='latin1' , na_filter=True,)\n",
    "df.head(10)"
   ],
   "metadata": {
    "collapsed": false,
    "pycharm": {
     "name": "#%%\n"
    }
   }
  },
  {
   "cell_type": "markdown",
   "source": [
    "<h4>Ex2. The months in column \"month\" are in Portuguese. Change them to English</h4>"
   ],
   "metadata": {
    "collapsed": false,
    "pycharm": {
     "name": "#%% md\n"
    }
   }
  },
  {
   "cell_type": "code",
   "execution_count": 9,
   "outputs": [],
   "source": [
    "# df = df.iloc[20:40]\n",
    "#\n",
    "# df"
   ],
   "metadata": {
    "collapsed": false,
    "pycharm": {
     "name": "#%%\n"
    }
   }
  },
  {
   "cell_type": "code",
   "execution_count": 10,
   "outputs": [],
   "source": [
    "tr = Translator()\n",
    "# df['month'] = df['month'].apply(lambda x: tr.translate(x,dest='en').text)"
   ],
   "metadata": {
    "collapsed": false,
    "pycharm": {
     "name": "#%%\n"
    }
   }
  },
  {
   "cell_type": "code",
   "execution_count": 11,
   "outputs": [
    {
     "name": "stdout",
     "output_type": "stream",
     "text": [
      "['Janeiro' 'Fevereiro' 'Março' 'Abril' 'Maio' 'Junho' 'Julho' 'Agosto'\n",
      " 'Setembro' 'Outubro' 'Novembro' 'Dezembro']\n"
     ]
    }
   ],
   "source": [
    "print(df['month'].unique())"
   ],
   "metadata": {
    "collapsed": false,
    "pycharm": {
     "name": "#%%\n"
    }
   }
  },
  {
   "cell_type": "code",
   "execution_count": 12,
   "outputs": [],
   "source": [
    "# df['month'] = df['month'].apply(lambda x: 'January' if (x == 'Janeiro') else if )\n",
    "\n",
    "condi = [\n",
    "                df['month'] == 'Janeiro',\n",
    "                  df['month'] == 'Fevereiro',\n",
    "                  df['month'] == 'Março',\n",
    "                  df['month'] == 'Abril',\n",
    "                  df['month'] == 'Maio',\n",
    "                  df['month'] == 'Junho',\n",
    "                  df['month'] == 'Julho',\n",
    "                  df['month'] == 'Agosto',\n",
    "                  df['month'] == 'Setembro',\n",
    "                  df['month'] == 'Outubro',\n",
    "                  df['month'] == 'Novembro',\n",
    "                  df['month'] == 'Dezembro'\n",
    "                  ]\n",
    "choices =[\n",
    "            'January',\n",
    "            'February',\n",
    "            'March',\n",
    "            'April',\n",
    "            'May',\n",
    "            'June',\n",
    "            'July',\n",
    "            'August',\n",
    "            'September',\n",
    "            'October',\n",
    "            'November',\n",
    "            'December'\n",
    "        ]\n",
    "\n",
    "df['month'] = np.select(condi, choices)"
   ],
   "metadata": {
    "collapsed": false,
    "pycharm": {
     "name": "#%%\n"
    }
   }
  },
  {
   "cell_type": "markdown",
   "source": [
    "<h4>Ex3. Missing values in state column:\n",
    "<p>\n",
    "<ol type=\"a\">\n",
    "    <li> - randobly delete 200 values from the state column</li>\n",
    "    <li> - Check for the missing values in this column </li>\n",
    "    <li> - Fil each missing value with that of the previous (or next) row. </li>\n",
    "</ol>"
   ],
   "metadata": {
    "collapsed": false,
    "pycharm": {
     "name": "#%% md\n"
    }
   }
  },
  {
   "cell_type": "markdown",
   "source": [
    "<p> Randomly delete 200 values from the state column</p>"
   ],
   "metadata": {
    "collapsed": false,
    "pycharm": {
     "name": "#%% md\n"
    }
   }
  },
  {
   "cell_type": "code",
   "execution_count": 14,
   "outputs": [
    {
     "name": "stderr",
     "output_type": "stream",
     "text": [
      "/usr/local/lib/python3.8/dist-packages/pandas/core/indexing.py:670: SettingWithCopyWarning: \n",
      "A value is trying to be set on a copy of a slice from a DataFrame\n",
      "\n",
      "See the caveats in the documentation: https://pandas.pydata.org/pandas-docs/stable/user_guide/indexing.html#returning-a-view-versus-a-copy\n",
      "  iloc._setitem_with_indexer(indexer, value)\n"
     ]
    }
   ],
   "source": [
    "i = 0\n",
    "t = []\n",
    "while i<200:\n",
    "    temp = np.random.randint(len(df['state']))\n",
    "    # print('First temp {}'.format(temp))\n",
    "    if not pd.isna(df['state'].loc[temp]):\n",
    "        df['state'].loc[temp] = np.NaN\n",
    "        i+=1"
   ],
   "metadata": {
    "collapsed": false,
    "pycharm": {
     "name": "#%%\n"
    }
   }
  },
  {
   "cell_type": "markdown",
   "source": [
    "<p> Check for missing values in this column</p>"
   ],
   "metadata": {
    "collapsed": false,
    "pycharm": {
     "name": "#%% md\n"
    }
   }
  },
  {
   "cell_type": "code",
   "execution_count": 7,
   "outputs": [
    {
     "data": {
      "text/plain": "year        0\nstate     200\nmonth       0\nnumber      0\ndate        0\ndtype: int64"
     },
     "execution_count": 7,
     "metadata": {},
     "output_type": "execute_result"
    }
   ],
   "source": [
    "df.isnull().sum()"
   ],
   "metadata": {
    "collapsed": false,
    "pycharm": {
     "name": "#%%\n"
    }
   }
  },
  {
   "cell_type": "code",
   "execution_count": 8,
   "outputs": [
    {
     "name": "stderr",
     "output_type": "stream",
     "text": [
      "/usr/local/lib/python3.8/dist-packages/pandas/core/indexing.py:670: SettingWithCopyWarning: \n",
      "A value is trying to be set on a copy of a slice from a DataFrame\n",
      "\n",
      "See the caveats in the documentation: https://pandas.pydata.org/pandas-docs/stable/user_guide/indexing.html#returning-a-view-versus-a-copy\n",
      "  iloc._setitem_with_indexer(indexer, value)\n"
     ]
    }
   ],
   "source": [
    "temp1 = df[df['state'].isnull() == True].index.tolist()\n",
    "for i in temp1:\n",
    "    df['state'].loc[i] = df['state'].loc[i-1]"
   ],
   "metadata": {
    "collapsed": false,
    "pycharm": {
     "name": "#%%\n"
    }
   }
  },
  {
   "cell_type": "code",
   "execution_count": 9,
   "outputs": [
    {
     "data": {
      "text/plain": "0"
     },
     "execution_count": 9,
     "metadata": {},
     "output_type": "execute_result"
    }
   ],
   "source": [
    "df['state'].isnull().sum()"
   ],
   "metadata": {
    "collapsed": false,
    "pycharm": {
     "name": "#%%\n"
    }
   }
  },
  {
   "cell_type": "markdown",
   "source": [
    "<h4>Ex4. Data reduction</h4>\n",
    "<p>We would like to visualise the number of forest fires over the years, over the months. To this, we need\n",
    "to be able to identify smaller pieces of the bigger picture.\n",
    "Let us drop rows from the dataset that are not contributing to the number of forest fires. Therefore,\n",
    "any row with number column value as 0, must be dropped. We first convert the 0s to NaN and then\n",
    "drop rows with NaN in the specific column number."
   ],
   "metadata": {
    "collapsed": false,
    "pycharm": {
     "name": "#%% md\n"
    }
   }
  },
  {
   "cell_type": "code",
   "execution_count": 10,
   "outputs": [
    {
     "data": {
      "text/plain": "(5837, 5)"
     },
     "execution_count": 10,
     "metadata": {},
     "output_type": "execute_result"
    }
   ],
   "source": [
    "df['number'] = df['number'].apply(lambda x: np.nan if (x == 0) else x)\n",
    "df = df.dropna()\n",
    "\n",
    "df.shape"
   ],
   "metadata": {
    "collapsed": false,
    "pycharm": {
     "name": "#%%\n"
    }
   }
  },
  {
   "cell_type": "code",
   "execution_count": 11,
   "outputs": [
    {
     "data": {
      "text/plain": "        month     number\n0     January  47747.844\n1    February  30848.050\n2       March  30717.405\n3       April  28188.770\n4         May  34731.363\n5        June  56010.675\n6        July  92326.113\n7      August  88050.435\n8   September  58578.305\n9     October  88681.579\n10   November  85508.054\n11   December  57535.480",
      "text/html": "<div>\n<style scoped>\n    .dataframe tbody tr th:only-of-type {\n        vertical-align: middle;\n    }\n\n    .dataframe tbody tr th {\n        vertical-align: top;\n    }\n\n    .dataframe thead th {\n        text-align: right;\n    }\n</style>\n<table border=\"1\" class=\"dataframe\">\n  <thead>\n    <tr style=\"text-align: right;\">\n      <th></th>\n      <th>month</th>\n      <th>number</th>\n    </tr>\n  </thead>\n  <tbody>\n    <tr>\n      <th>0</th>\n      <td>January</td>\n      <td>47747.844</td>\n    </tr>\n    <tr>\n      <th>1</th>\n      <td>February</td>\n      <td>30848.050</td>\n    </tr>\n    <tr>\n      <th>2</th>\n      <td>March</td>\n      <td>30717.405</td>\n    </tr>\n    <tr>\n      <th>3</th>\n      <td>April</td>\n      <td>28188.770</td>\n    </tr>\n    <tr>\n      <th>4</th>\n      <td>May</td>\n      <td>34731.363</td>\n    </tr>\n    <tr>\n      <th>5</th>\n      <td>June</td>\n      <td>56010.675</td>\n    </tr>\n    <tr>\n      <th>6</th>\n      <td>July</td>\n      <td>92326.113</td>\n    </tr>\n    <tr>\n      <th>7</th>\n      <td>August</td>\n      <td>88050.435</td>\n    </tr>\n    <tr>\n      <th>8</th>\n      <td>September</td>\n      <td>58578.305</td>\n    </tr>\n    <tr>\n      <th>9</th>\n      <td>October</td>\n      <td>88681.579</td>\n    </tr>\n    <tr>\n      <th>10</th>\n      <td>November</td>\n      <td>85508.054</td>\n    </tr>\n    <tr>\n      <th>11</th>\n      <td>December</td>\n      <td>57535.480</td>\n    </tr>\n  </tbody>\n</table>\n</div>"
     },
     "execution_count": 11,
     "metadata": {},
     "output_type": "execute_result"
    }
   ],
   "source": [
    "temp_arr = df['month'].unique()\n",
    "\n",
    "test_data = df.groupby(['month']).agg({'number':'sum'})\n",
    "test_data.index = pd.CategoricalIndex(test_data.index, categories=temp_arr, ordered=True)\n",
    "test_data.sort_index(inplace = True)\n",
    "ntemp = test_data.index\n",
    "test_data.insert(0,'month',ntemp)\n",
    "test_data.reset_index(drop=True)"
   ],
   "metadata": {
    "collapsed": false,
    "pycharm": {
     "name": "#%%\n"
    }
   }
  },
  {
   "cell_type": "code",
   "execution_count": 14,
   "outputs": [
    {
     "data": {
      "text/plain": "<BarContainer object of 12 artists>"
     },
     "execution_count": 14,
     "metadata": {},
     "output_type": "execute_result"
    },
    {
     "data": {
      "text/plain": "<Figure size 1080x720 with 1 Axes>",
      "image/png": "[encoded data removed]"
     },
     "metadata": {
      "needs_background": "light"
     },
     "output_type": "display_data"
    }
   ],
   "source": [
    "fig, ax = plt.subplots(figsize = (15,10))\n",
    "plt.xlabel('Month')\n",
    "plt.ylabel('Number of burend trees')\n",
    "plt.title('Number of burned trees per month')\n",
    "plt.bar(\n",
    "    test_data.month,\n",
    "    test_data.number,\n",
    ")"
   ],
   "metadata": {
    "collapsed": false,
    "pycharm": {
     "name": "#%%\n"
    }
   }
  },
  {
   "cell_type": "code",
   "execution_count": 14,
   "outputs": [],
   "source": [],
   "metadata": {
    "collapsed": false,
    "pycharm": {
     "name": "#%%\n"
    }
   }
  }
 ],
 "metadata": {
  "kernelspec": {
   "display_name": "Python 3",
   "language": "python",
   "name": "python3"
  },
  "language_info": {
   "codemirror_mode": {
    "name": "ipython",
    "version": 2
   },
   "file_extension": ".py",
   "mimetype": "text/x-python",
   "name": "python",
   "nbconvert_exporter": "python",
   "pygments_lexer": "ipython2",
   "version": "2.7.6"
  }
 },
 "nbformat": 4,
 "nbformat_minor": 0
}